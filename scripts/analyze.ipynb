{
 "cells": [
  {
   "cell_type": "markdown",
   "metadata": {},
   "source": [
    "# Imports"
   ]
  },
  {
   "cell_type": "code",
   "execution_count": 7,
   "metadata": {},
   "outputs": [],
   "source": [
    "import numpy as np\n",
    "import matplotlib.pyplot as plt\n",
    "from os import stat, listdir\n",
    "from math import log2\n",
    "from dataclasses import dataclass\n",
    "from typing import Dict, List, Tuple"
   ]
  },
  {
   "attachments": {},
   "cell_type": "markdown",
   "metadata": {},
   "source": [
    "# Information throughout the message"
   ]
  },
  {
   "cell_type": "code",
   "execution_count": 13,
   "metadata": {},
   "outputs": [],
   "source": [
    "def parse_processed_name(name: str) -> Tuple[str, int, float, str, str, int]:\n",
    "    parameters = name.split('_')\n",
    "    fname_parameter_span = len(parameters) - 5\n",
    "\n",
    "    fname = '_'.join(parameters[:fname_parameter_span])\n",
    "    k = int(parameters[fname_parameter_span])\n",
    "    alpha = float(parameters[fname_parameter_span + 1])\n",
    "    probability_distribution = parameters[fname_parameter_span + 2]\n",
    "    pointer_manager = parameters[fname_parameter_span + 3]\n",
    "    thresholds = parameters[fname_parameter_span + 4]\n",
    "\n",
    "    return fname, k, alpha, probability_distribution, pointer_manager, thresholds"
   ]
  },
  {
   "cell_type": "code",
   "execution_count": 11,
   "metadata": {},
   "outputs": [],
   "source": [
    "def plot_information(information_steps: np.ndarray, sliding_entropy: np.ndarray, processed_file_name: str):\n",
    "    source_file_name, k, alpha, probability_distribution, pointer_manager, thresholds = parse_processed_name(processed_file_name)\n",
    "    \n",
    "    plt.plot(information_steps)\n",
    "    plt.plot(sliding_entropy)\n",
    "    plt.legend(['instant information', 'cummulative information (entropy)'])\n",
    "    plt.title(f'Information throughout the message coding steps ({source_file_name})\\n(k={k}, alpha={alpha}, p={probability_distribution}, r={pointer_manager}, t={thresholds})')\n",
    "    plt.xlabel('step')\n",
    "    plt.ylabel('bits')\n",
    "    plt.savefig(f'./images/{processed_file_name}.png')"
   ]
  },
  {
   "attachments": {},
   "cell_type": "markdown",
   "metadata": {},
   "source": [
    "## `chry.txt`"
   ]
  },
  {
   "cell_type": "code",
   "execution_count": 9,
   "metadata": {},
   "outputs": [],
   "source": [
    "chry_to_process = 'chry_12_1.0_f_m_[f:6,]'"
   ]
  },
  {
   "cell_type": "code",
   "execution_count": 10,
   "metadata": {},
   "outputs": [],
   "source": [
    "information_steps = np.load(f'./processed/{chry_to_process}_information.npy')\n",
    "sliding_entropy = np.load(f'./processed/{chry_to_process}_entropy.npy')"
   ]
  },
  {
   "cell_type": "code",
   "execution_count": 17,
   "metadata": {},
   "outputs": [
    {
     "ename": "ValueError",
     "evalue": "object too deep for desired array",
     "output_type": "error",
     "traceback": [
      "\u001b[0;31m---------------------------------------------------------------------------\u001b[0m",
      "\u001b[0;31mValueError\u001b[0m                                Traceback (most recent call last)",
      "\u001b[1;32m/home/martinho/ua/4-2/tai/assign1/scripts/analyze.ipynb Cell 9\u001b[0m in \u001b[0;36m<cell line: 3>\u001b[0;34m()\u001b[0m\n\u001b[1;32m      <a href='vscode-notebook-cell:/home/martinho/ua/4-2/tai/assign1/scripts/analyze.ipynb#X16sZmlsZQ%3D%3D?line=0'>1</a>\u001b[0m \u001b[39m# Apply a sliding window that averages N samples, turning them into 1, in order to reduce the high frequency information of the data\u001b[39;00m\n\u001b[1;32m      <a href='vscode-notebook-cell:/home/martinho/ua/4-2/tai/assign1/scripts/analyze.ipynb#X16sZmlsZQ%3D%3D?line=1'>2</a>\u001b[0m N \u001b[39m=\u001b[39m \u001b[39m10000\u001b[39m\n\u001b[0;32m----> <a href='vscode-notebook-cell:/home/martinho/ua/4-2/tai/assign1/scripts/analyze.ipynb#X16sZmlsZQ%3D%3D?line=2'>3</a>\u001b[0m information_steps \u001b[39m=\u001b[39m np\u001b[39m.\u001b[39;49mconvolve(information_steps, np\u001b[39m.\u001b[39;49mones(N) \u001b[39m/\u001b[39;49m N, mode\u001b[39m=\u001b[39;49m\u001b[39m'\u001b[39;49m\u001b[39mvalid\u001b[39;49m\u001b[39m'\u001b[39;49m)\n\u001b[1;32m      <a href='vscode-notebook-cell:/home/martinho/ua/4-2/tai/assign1/scripts/analyze.ipynb#X16sZmlsZQ%3D%3D?line=3'>4</a>\u001b[0m sliding_entropy \u001b[39m=\u001b[39m np\u001b[39m.\u001b[39mconvolve(sliding_entropy, np\u001b[39m.\u001b[39mones(N) \u001b[39m/\u001b[39m N, mode\u001b[39m=\u001b[39m\u001b[39m'\u001b[39m\u001b[39mvalid\u001b[39m\u001b[39m'\u001b[39m)\n",
      "File \u001b[0;32m<__array_function__ internals>:180\u001b[0m, in \u001b[0;36mconvolve\u001b[0;34m(*args, **kwargs)\u001b[0m\n",
      "File \u001b[0;32m~/.local/lib/python3.8/site-packages/numpy/core/numeric.py:850\u001b[0m, in \u001b[0;36mconvolve\u001b[0;34m(a, v, mode)\u001b[0m\n\u001b[1;32m    848\u001b[0m \u001b[39mif\u001b[39;00m \u001b[39mlen\u001b[39m(v) \u001b[39m==\u001b[39m \u001b[39m0\u001b[39m:\n\u001b[1;32m    849\u001b[0m     \u001b[39mraise\u001b[39;00m \u001b[39mValueError\u001b[39;00m(\u001b[39m'\u001b[39m\u001b[39mv cannot be empty\u001b[39m\u001b[39m'\u001b[39m)\n\u001b[0;32m--> 850\u001b[0m \u001b[39mreturn\u001b[39;00m multiarray\u001b[39m.\u001b[39;49mcorrelate(a, v[::\u001b[39m-\u001b[39;49m\u001b[39m1\u001b[39;49m], mode)\n",
      "\u001b[0;31mValueError\u001b[0m: object too deep for desired array"
     ]
    }
   ],
   "source": [
    "# Apply a sliding window that averages N samples, turning them into 1, in order to reduce the high frequency information of the data\n",
    "N = 10000\n",
    "information_steps = np.convolve(information_steps.flatten(), np.ones(N) / N, mode='valid')\n",
    "sliding_entropy = np.convolve(sliding_entropy.flatten(), np.ones(N) / N, mode='valid')"
   ]
  },
  {
   "cell_type": "code",
   "execution_count": 14,
   "metadata": {},
   "outputs": [
    {
     "name": "stderr",
     "output_type": "stream",
     "text": [
      "/tmp/ipykernel_39927/1084212256.py:10: UserWarning: Creating legend with loc=\"best\" can be slow with large amounts of data.\n",
      "  plt.savefig(f'./images/{processed_file_name}.png')\n",
      "/home/martinho/.local/lib/python3.8/site-packages/IPython/core/pylabtools.py:151: UserWarning: Creating legend with loc=\"best\" can be slow with large amounts of data.\n",
      "  fig.canvas.print_figure(bytes_io, **kw)\n"
     ]
    },
    {
     "data": {
      "image/png": "[encoded data removed]",
      "text/plain": [
       "<Figure size 432x288 with 1 Axes>"
      ]
     },
     "metadata": {
      "needs_background": "light"
     },
     "output_type": "display_data"
    }
   ],
   "source": [
    "plot_information(information_steps, sliding_entropy, chry_to_process)"
   ]
  }
 ],
 "metadata": {
  "kernelspec": {
   "display_name": "Python 3",
   "language": "python",
   "name": "python3"
  },
  "language_info": {
   "codemirror_mode": {
    "name": "ipython",
    "version": 3
   },
   "file_extension": ".py",
   "mimetype": "text/x-python",
   "name": "python",
   "nbconvert_exporter": "python",
   "pygments_lexer": "ipython3",
   "version": "3.8.10"
  },
  "orig_nbformat": 4
 },
 "nbformat": 4,
 "nbformat_minor": 2
}
